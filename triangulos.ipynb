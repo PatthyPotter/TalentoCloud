{
  "nbformat": 4,
  "nbformat_minor": 0,
  "metadata": {
    "colab": {
      "provenance": [],
      "authorship_tag": "ABX9TyMvYjDIbyiMy/WtnkkCe5L2",
      "include_colab_link": true
    },
    "kernelspec": {
      "name": "python3",
      "display_name": "Python 3"
    },
    "language_info": {
      "name": "python"
    }
  },
  "cells": [
    {
      "cell_type": "markdown",
      "metadata": {
        "id": "view-in-github",
        "colab_type": "text"
      },
      "source": [
        "<a href=\"https://colab.research.google.com/github/PatthyPotter/TalentoCloud/blob/main/triangulos.ipynb\" target=\"_parent\"><img src=\"https://colab.research.google.com/assets/colab-badge.svg\" alt=\"Open In Colab\"/></a>"
      ]
    },
    {
      "cell_type": "code",
      "source": [
        "#Crie uma função que receba 3 valores, esses valores serão as laterais de um triângulo.\n",
        "#A função deve determinar se o triângulo é equilátero (3 lados iguais), isósceles (2 lados iguais) ou escaleno (3 lados diferentes).\n",
        "#Desafio: Garanta que os valores sejam números (Int ou Float) Obs.: Você pode ignorar os triângulos impossíveis, ou verificar isso como um desafio.\n",
        "\n",
        "def triangulos():\n",
        "    lado1 = float(input(\"Digite o valor do lado 1: \"))\n",
        "    lado2 = float(input(\"Digite o valor do lado 2: \"))\n",
        "    lado3 = float(input(\"Digite o valor do lado 3: \"))\n",
        "    if lado1 == lado2 == lado3:\n",
        "        print(\"O triângulo é equilátero\")\n",
        "    elif lado1 == lado2 or lado1 == lado3 or lado2 == lado3:\n",
        "        print(\"O triângulo é isósceles\")\n",
        "    else:\n",
        "        print(\"O triângulo é escaleno\")\n",
        "triangulos()"
      ],
      "metadata": {
        "colab": {
          "base_uri": "https://localhost:8080/"
        },
        "id": "vl6kGcDp_9Pf",
        "outputId": "e71a8290-d315-4ae3-8e0a-b838ff86d782"
      },
      "execution_count": 6,
      "outputs": [
        {
          "output_type": "stream",
          "name": "stdout",
          "text": [
            "Digite o valor do lado 1: 10\n",
            "Digite o valor do lado 2: 10\n",
            "Digite o valor do lado 3: 15\n",
            "O triângulo é isósceles\n"
          ]
        }
      ]
    }
  ]
}