{
  "nbformat": 4,
  "nbformat_minor": 0,
  "metadata": {
    "colab": {
      "provenance": [],
      "authorship_tag": "ABX9TyP2lsyh/WTX42RWIsr4XG8R",
      "include_colab_link": true
    },
    "kernelspec": {
      "name": "python3",
      "display_name": "Python 3"
    },
    "language_info": {
      "name": "python"
    }
  },
  "cells": [
    {
      "cell_type": "markdown",
      "metadata": {
        "id": "view-in-github",
        "colab_type": "text"
      },
      "source": [
        "<a href=\"https://colab.research.google.com/github/PatthyPotter/TalentoCloud/blob/main/calculadora.ipynb\" target=\"_parent\"><img src=\"https://colab.research.google.com/assets/colab-badge.svg\" alt=\"Open In Colab\"/></a>"
      ]
    },
    {
      "cell_type": "code",
      "execution_count": 18,
      "metadata": {
        "id": "LYyCNlhT_5cd"
      },
      "outputs": [],
      "source": []
    },
    {
      "cell_type": "code",
      "source": [
        "def calculadora (num1,num2,oper):\n",
        "   if oper == 1:\n",
        "    return num1 + num2\n",
        "   elif oper == 2:\n",
        "    return num1-num2\n",
        "   elif oper == 3:\n",
        "    return num1*num2\n",
        "   elif oper == 4:\n",
        "    if num2 != 0:\n",
        "      return num1/num2\n",
        "    else: print (\"Não é possível dividir por zero\")\n",
        "\n",
        "   print(\"Selecione a operação: 1.Soma, 2.Subtração, 3.Multiplicação, 4.Divisão\")\n",
        "   print(\"Digite o primeiro número\", num1)\n",
        "   print(\"Digite o segundo número\", num2)\n",
        "\n",
        "   resultado = calculadora(num1,num2,oper)\n",
        "   print(\"O resultado é\", resultado)"
      ],
      "metadata": {
        "id": "cZ_N-PghCPGj"
      },
      "execution_count": 20,
      "outputs": []
    }
  ]
}