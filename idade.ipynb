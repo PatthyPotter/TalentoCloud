{
  "nbformat": 4,
  "nbformat_minor": 0,
  "metadata": {
    "colab": {
      "provenance": [],
      "authorship_tag": "ABX9TyOdxNfMUapu1uAE/3IUcDMl",
      "include_colab_link": true
    },
    "kernelspec": {
      "name": "python3",
      "display_name": "Python 3"
    },
    "language_info": {
      "name": "python"
    }
  },
  "cells": [
    {
      "cell_type": "markdown",
      "metadata": {
        "id": "view-in-github",
        "colab_type": "text"
      },
      "source": [
        "<a href=\"https://colab.research.google.com/github/PatthyPotter/TalentoCloud/blob/main/idade.ipynb\" target=\"_parent\"><img src=\"https://colab.research.google.com/assets/colab-badge.svg\" alt=\"Open In Colab\"/></a>"
      ]
    },
    {
      "cell_type": "code",
      "source": [
        "#Desenvolva um programa que recebe do usuário nome completo e ano de nascimento que seja entre 1922 e 2021.\n",
        "#A partir dessas informações, o sistema mostrará o nome do usuário e a idade que completou, ou completará, no ano atual (2022).\n",
        "\n",
        "#Caso o usuário não digite um número ou apareça um inválido no campo do ano, o sistema informará o erro e continuará perguntando até que um\n",
        "#valor correto seja preenchido.\n",
        "\n",
        "from datetime import datetime\n",
        "\n",
        "def obter_ano_nascimento():\n",
        "    while True:\n",
        "        try:\n",
        "            # Usando datetime.now().year para obter o ano atual corretamente\n",
        "            ano_atual = datetime.now().year\n",
        "            ano_nascimento = int(input(f\"Digite o ano de nascimento (entre 1922 e {ano_atual}): \"))\n",
        "            if 1922 <= ano_nascimento <= ano_atual:\n",
        "                return ano_nascimento\n",
        "            else:\n",
        "                print(f\"Ano inválido. Por favor, digite um ano entre 1922 e {ano_atual}.\")\n",
        "        except ValueError:\n",
        "            print(\"Valor inválido! Por favor, digite um número válido.\")\n",
        "\n",
        "def calcular_idade(ano_nascimento, ano_atual):\n",
        "    return ano_atual - ano_nascimento\n",
        "\n",
        "def main():\n",
        "    nome = input(\"Digite o seu nome completo: \")\n",
        "    ano_nascimento = obter_ano_nascimento()\n",
        "    ano_atual = datetime.now().year\n",
        "    idade = calcular_idade(ano_nascimento, ano_atual)\n",
        "\n",
        "    print(f\"\\nNome: {nome}\")\n",
        "    print(f\"Idade em {ano_atual}: {idade} anos\")\n",
        "\n",
        "if __name__ == \"__main__\":\n",
        "    main()\n"
      ],
      "metadata": {
        "colab": {
          "base_uri": "https://localhost:8080/"
        },
        "id": "s4SQszI44r-e",
        "outputId": "22cbe18e-8a00-4d2d-e4fb-a6470b63001c"
      },
      "execution_count": 8,
      "outputs": [
        {
          "output_type": "stream",
          "name": "stdout",
          "text": [
            "Digite o seu nome completo: patricia figueira\n",
            "Digite o ano de nascimento (entre 1922 e 2025): 1800\n",
            "Ano inválido. Por favor, digite um ano entre 1922 e 2025.\n",
            "Digite o ano de nascimento (entre 1922 e 2025): 1978\n",
            "\n",
            "Nome: patricia figueira\n",
            "Idade em 2025: 47 anos\n"
          ]
        }
      ]
    }
  ]
}