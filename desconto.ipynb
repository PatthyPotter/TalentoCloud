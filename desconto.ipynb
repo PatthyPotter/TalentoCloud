{
  "nbformat": 4,
  "nbformat_minor": 0,
  "metadata": {
    "colab": {
      "provenance": [],
      "authorship_tag": "ABX9TyPC+Z5M8/vyTtfQufvgE3jz",
      "include_colab_link": true
    },
    "kernelspec": {
      "name": "python3",
      "display_name": "Python 3"
    },
    "language_info": {
      "name": "python"
    }
  },
  "cells": [
    {
      "cell_type": "markdown",
      "metadata": {
        "id": "view-in-github",
        "colab_type": "text"
      },
      "source": [
        "<a href=\"https://colab.research.google.com/github/PatthyPotter/TalentoCloud/blob/main/desconto.ipynb\" target=\"_parent\"><img src=\"https://colab.research.google.com/assets/colab-badge.svg\" alt=\"Open In Colab\"/></a>"
      ]
    },
    {
      "cell_type": "code",
      "execution_count": null,
      "metadata": {
        "id": "RGYUmdxM6ofp"
      },
      "outputs": [],
      "source": []
    },
    {
      "cell_type": "code",
      "source": [
        "#Crie uma função que receba dois valores, o primeiro será o valor de um produto, o segundo a porcentagem de desconto.\n",
        "#A função deverá aplicar o desconto ao valor do produto e retornar o valor final.\n",
        "\n",
        "def desconto_percentual():\n",
        "    valor_produto = float(input(\"Digite o valor do produto: \"))\n",
        "    percentual_desconto = float(input(\"Digite o percentual de desconto: \"))\n",
        "    valor_desconto = valor_produto * (percentual_desconto / 100)\n",
        "    valor_produto_com_desconto = valor_produto - valor_desconto\n",
        "    print(\"O valor do produto com desconto é: \", valor_produto_com_desconto)\n",
        "\n",
        "desconto_percentual()"
      ],
      "metadata": {
        "id": "hp5GSufc6u0C"
      },
      "execution_count": null,
      "outputs": []
    }
  ]
}