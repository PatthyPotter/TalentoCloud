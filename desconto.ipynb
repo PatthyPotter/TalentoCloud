{
  "nbformat": 4,
  "nbformat_minor": 0,
  "metadata": {
    "colab": {
      "provenance": [],
      "authorship_tag": "ABX9TyPBY+mBGn0XyRUbAW/wkRp1",
      "include_colab_link": true
    },
    "kernelspec": {
      "name": "python3",
      "display_name": "Python 3"
    },
    "language_info": {
      "name": "python"
    }
  },
  "cells": [
    {
      "cell_type": "markdown",
      "metadata": {
        "id": "view-in-github",
        "colab_type": "text"
      },
      "source": [
        "<a href=\"https://colab.research.google.com/github/PatthyPotter/TalentoCloud/blob/main/desconto.ipynb\" target=\"_parent\"><img src=\"https://colab.research.google.com/assets/colab-badge.svg\" alt=\"Open In Colab\"/></a>"
      ]
    },
    {
      "cell_type": "code",
      "execution_count": null,
      "metadata": {
        "id": "RGYUmdxM6ofp"
      },
      "outputs": [],
      "source": []
    },
    {
      "cell_type": "code",
      "source": [
        "def desconto_percentual():\n",
        "    valor_produto = float(input(\"Digite o valor do produto: \"))\n",
        "    percentual_desconto = float(input(\"Digite o percentual de desconto: \"))\n",
        "    valor_desconto = valor_produto * (percentual_desconto / 100)\n",
        "    valor_produto_com_desconto = valor_produto - valor_desconto\n",
        "    print(\"O valor do produto com desconto é: \", valor_produto_com_desconto)\n",
        "\n",
        "desconto_percentual()"
      ],
      "metadata": {
        "colab": {
          "base_uri": "https://localhost:8080/"
        },
        "id": "hp5GSufc6u0C",
        "outputId": "51297a8c-0582-4c3e-b6c1-a6dda7f895f4"
      },
      "execution_count": 1,
      "outputs": [
        {
          "output_type": "stream",
          "name": "stdout",
          "text": [
            "Digite o valor do produto: 1000\n",
            "Digite o percentual de desconto: 10\n",
            "O valor do produto com desconto é:  900.0\n"
          ]
        }
      ]
    }
  ]
}