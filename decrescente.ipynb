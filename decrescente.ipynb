{
  "nbformat": 4,
  "nbformat_minor": 0,
  "metadata": {
    "colab": {
      "provenance": [],
      "authorship_tag": "ABX9TyMeIyHpFOhMe0zAzhn5AuOy",
      "include_colab_link": true
    },
    "kernelspec": {
      "name": "python3",
      "display_name": "Python 3"
    },
    "language_info": {
      "name": "python"
    }
  },
  "cells": [
    {
      "cell_type": "markdown",
      "metadata": {
        "id": "view-in-github",
        "colab_type": "text"
      },
      "source": [
        "<a href=\"https://colab.research.google.com/github/PatthyPotter/TalentoCloud/blob/main/decrescente.ipynb\" target=\"_parent\"><img src=\"https://colab.research.google.com/assets/colab-badge.svg\" alt=\"Open In Colab\"/></a>"
      ]
    },
    {
      "cell_type": "code",
      "execution_count": 7,
      "metadata": {
        "colab": {
          "base_uri": "https://localhost:8080/"
        },
        "id": "D5kra74vF77_",
        "outputId": "84146b3b-3496-4de2-941c-ce1fb3cc1da9"
      },
      "outputs": [
        {
          "output_type": "stream",
          "name": "stdout",
          "text": [
            "Digite um valor numérico inteiro: 10\n",
            "Números inteiros menores que 10 em ordem decrescente:\n",
            "9\n",
            "8\n",
            "7\n",
            "6\n",
            "5\n",
            "4\n",
            "3\n",
            "2\n",
            "1\n",
            "0\n",
            "Soma de todos os números exibidos: 45\n"
          ]
        }
      ],
      "source": [
        "#Crie uma função que solicite ao usuário um valor numérico inteiro.\n",
        "#A função deve exibir todos os números inteiros menores que o valor inserido, em ordem decrescente, até chegar a zero.\n",
        "#Ao final, a função deve exibir a soma de todos os números exibidos.\n",
        "\n",
        "def exibir_numeros_e_soma():\n",
        "    # Solicitar ao usuário que insira um valor numérico inteiro\n",
        "    numero = int(input(\"Digite um valor numérico inteiro: \"))\n",
        "\n",
        "    # Inicializar a variável para armazenar a soma\n",
        "    soma = 0\n",
        "\n",
        "    # Exibir os números inteiros menores que o valor inserido em ordem decrescente\n",
        "    print(f\"Números inteiros menores que {numero} em ordem decrescente:\")\n",
        "    for i in range(numero-1, -1, -1):\n",
        "        print(i)\n",
        "        soma += i\n",
        "\n",
        "    # Exibir a soma dos números exibidos\n",
        "    print(f\"Soma de todos os números exibidos: {soma}\")\n",
        "\n",
        "# Chamar a função\n",
        "exibir_numeros_e_soma()\n"
      ]
    }
  ]
}