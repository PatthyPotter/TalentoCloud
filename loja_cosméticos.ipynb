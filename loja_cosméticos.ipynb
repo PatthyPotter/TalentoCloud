{
  "nbformat": 4,
  "nbformat_minor": 0,
  "metadata": {
    "colab": {
      "provenance": [],
      "authorship_tag": "ABX9TyPK8R1nRz2mX85wUp/8ozXr",
      "include_colab_link": true
    },
    "kernelspec": {
      "name": "python3",
      "display_name": "Python 3"
    },
    "language_info": {
      "name": "python"
    }
  },
  "cells": [
    {
      "cell_type": "markdown",
      "metadata": {
        "id": "view-in-github",
        "colab_type": "text"
      },
      "source": [
        "<a href=\"https://colab.research.google.com/github/PatthyPotter/TalentoCloud/blob/main/loja_cosm%C3%A9ticos.ipynb\" target=\"_parent\"><img src=\"https://colab.research.google.com/assets/colab-badge.svg\" alt=\"Open In Colab\"/></a>"
      ]
    },
    {
      "cell_type": "code",
      "execution_count": 5,
      "metadata": {
        "colab": {
          "base_uri": "https://localhost:8080/"
        },
        "id": "kOl_iNZ6eXKT",
        "outputId": "fc24e50d-2d75-41aa-bcd4-f027bc51b1e2"
      },
      "outputs": [
        {
          "output_type": "stream",
          "name": "stdout",
          "text": [
            "['máscaras faciais', 'batons', 'esmaltes', 'perfumes', 'loções', 'xampus', 'sabonetes', 'delineadores']\n",
            "['máscaras faciais', 'esmaltes', 'perfumes', 'loções', 'xampus', 'sabonetes', 'delineadores']\n",
            "['máscaras faciais', 'esmaltes', 'perfumes', 'xampus', 'sabonetes', 'delineadores']\n",
            "['máscaras faciais', 'esmaltes', 'perfumes', 'xampus', 'sabonetes']\n",
            "['máscaras faciais', 'esmaltes', 'perfumes', 'xampus', 'sabonetes', 'cremes hidratantes']\n",
            "['máscaras faciais', 'esmaltes', 'perfumes', 'xampus', 'sabonetes', 'cremes hidratantes', 'kits']\n"
          ]
        }
      ],
      "source": [
        "#A loja de cosméticos ficou muito feliz com seu trabalho e chamaram você novamente!\n",
        "#Dessa vez, eles precisam que você atualize o array de produtos.\n",
        "#Agora, eles estão vendendo rímel ao invés de batons, e cremes hidratantes no lugar de loções.\n",
        "#Além disso, ficaram sem delineadores, então precisam que você remova ele da lista de produtos.\n",
        "#Imprima a nova lista no terminal para verificar que as alterações foram realizadas corretamente.\n",
        "#lista_produtos = ['máscaras faciais', 'batons', 'esmaltes', 'perfumes', 'loções', 'xampus', 'sabonetes', 'delineadores']\n",
        "#Como desafio, adicione dois novos produtos da sua escolha à lista.\n",
        "\n",
        "lista_produtos = ['máscaras faciais', 'batons', 'esmaltes', 'perfumes', 'loções', 'xampus', 'sabonetes', 'delineadores']\n",
        "print (lista_produtos)\n",
        "lista_produtos.remove('batons')\n",
        "print (lista_produtos)\n",
        "lista_produtos.remove('loções')\n",
        "print (lista_produtos)\n",
        "lista_produtos.remove('delineadores')\n",
        "print (lista_produtos)\n",
        "lista_produtos.append('cremes hidratantes')\n",
        "print (lista_produtos)\n",
        "lista_produtos.append('kits')\n",
        "print (lista_produtos)"
      ]
    }
  ]
}