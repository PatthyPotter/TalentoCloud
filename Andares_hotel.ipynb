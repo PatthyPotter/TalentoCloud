{
  "nbformat": 4,
  "nbformat_minor": 0,
  "metadata": {
    "colab": {
      "provenance": [],
      "authorship_tag": "ABX9TyN6KyWkMixWqDOzeOSbs/iQ",
      "include_colab_link": true
    },
    "kernelspec": {
      "name": "python3",
      "display_name": "Python 3"
    },
    "language_info": {
      "name": "python"
    }
  },
  "cells": [
    {
      "cell_type": "markdown",
      "metadata": {
        "id": "view-in-github",
        "colab_type": "text"
      },
      "source": [
        "<a href=\"https://colab.research.google.com/github/PatthyPotter/TalentoCloud/blob/main/Andares_hotel.ipynb\" target=\"_parent\"><img src=\"https://colab.research.google.com/assets/colab-badge.svg\" alt=\"Open In Colab\"/></a>"
      ]
    },
    {
      "cell_type": "code",
      "execution_count": 7,
      "metadata": {
        "colab": {
          "base_uri": "https://localhost:8080/"
        },
        "id": "4McjVPeazPRF",
        "outputId": "cd67bacd-6e60-45f7-a90e-f380bf83f068"
      },
      "outputs": [
        {
          "output_type": "stream",
          "name": "stdout",
          "text": [
            "20\n",
            "19\n",
            "18\n",
            "17\n",
            "16\n",
            "15\n",
            "14\n",
            "12\n",
            "11\n",
            "10\n",
            "9\n",
            "8\n",
            "7\n",
            "6\n",
            "5\n",
            "4\n",
            "3\n",
            "2\n",
            "1\n",
            "20\n",
            "19\n",
            "18\n",
            "17\n",
            "16\n",
            "15\n",
            "14\n",
            "12\n",
            "11\n",
            "10\n",
            "9\n",
            "8\n",
            "7\n",
            "6\n",
            "5\n",
            "4\n",
            "3\n",
            "2\n",
            "1\n",
            "fatal: destination path 'TalentoCloud' already exists and is not an empty directory.\n"
          ]
        }
      ],
      "source": [
        "#usando laço for\n",
        "\n",
        "for i in range(20, 0, -1):\n",
        "    if i != 13:\n",
        "        print(i)\n",
        "\n",
        "#usando while\n",
        "\n",
        "andar = 20\n",
        "while andar > 0:\n",
        "    if andar != 13:\n",
        "        print(andar)\n",
        "    andar -= 1\n",
        "\n",
        "\n",
        "#!git clone https://github.com/PatthyPotter/TalentoCloud"
      ]
    }
  ]
}