{
  "nbformat": 4,
  "nbformat_minor": 0,
  "metadata": {
    "colab": {
      "provenance": [],
      "authorship_tag": "ABX9TyOLCtc+YMlAbmPEgCEPs7kt",
      "include_colab_link": true
    },
    "kernelspec": {
      "name": "python3",
      "display_name": "Python 3"
    },
    "language_info": {
      "name": "python"
    }
  },
  "cells": [
    {
      "cell_type": "markdown",
      "metadata": {
        "id": "view-in-github",
        "colab_type": "text"
      },
      "source": [
        "<a href=\"https://colab.research.google.com/github/PatthyPotter/TalentoCloud/blob/main/calculadora_dois.ipynb\" target=\"_parent\"><img src=\"https://colab.research.google.com/assets/colab-badge.svg\" alt=\"Open In Colab\"/></a>"
      ]
    },
    {
      "cell_type": "code",
      "execution_count": 8,
      "metadata": {
        "colab": {
          "base_uri": "https://localhost:8080/"
        },
        "id": "41UpfL9Odac7",
        "outputId": "93d8aeaf-0be4-4cb1-aa5b-ee5d9db54462"
      },
      "outputs": [
        {
          "output_type": "stream",
          "name": "stdout",
          "text": [
            "Escolha a operação:\n",
            "1: Soma\n",
            "2: Subtração\n",
            "3: Multiplicação\n",
            "4: Divisão\n",
            "0: Sair\n",
            "Digite o número para a operação correspondente: 1\n",
            "Digite o primeiro valor: 10\n",
            "Digite o segundo valor: 2\n",
            "10.0 + 2.0 = 12.0\n",
            "\n",
            "Escolha a operação:\n",
            "1: Soma\n",
            "2: Subtração\n",
            "3: Multiplicação\n",
            "4: Divisão\n",
            "0: Sair\n",
            "Digite o número para a operação correspondente: 1\n",
            "Digite o primeiro valor: 7\n",
            "Digite o segundo valor: 3\n",
            "7.0 + 3.0 = 10.0\n",
            "\n",
            "Escolha a operação:\n",
            "1: Soma\n",
            "2: Subtração\n",
            "3: Multiplicação\n",
            "4: Divisão\n",
            "0: Sair\n",
            "Digite o número para a operação correspondente: 7\n",
            "Essa opção não existe.\n",
            "Escolha a operação:\n",
            "1: Soma\n",
            "2: Subtração\n",
            "3: Multiplicação\n",
            "4: Divisão\n",
            "0: Sair\n",
            "Digite o número para a operação correspondente: 8\n",
            "Essa opção não existe.\n",
            "Escolha a operação:\n",
            "1: Soma\n",
            "2: Subtração\n",
            "3: Multiplicação\n",
            "4: Divisão\n",
            "0: Sair\n",
            "Digite o número para a operação correspondente: 0\n",
            "Saindo... Até logo!\n"
          ]
        }
      ],
      "source": [
        "def calculadora():\n",
        "    while True:\n",
        "        # Exibe o menu de operações\n",
        "        print(\"Escolha a operação:\")\n",
        "        print(\"1: Soma\")\n",
        "        print(\"2: Subtração\")\n",
        "        print(\"3: Multiplicação\")\n",
        "        print(\"4: Divisão\")\n",
        "        print(\"0: Sair\")\n",
        "\n",
        "        # Obtém a opção do usuário\n",
        "        opcao = input(\"Digite o número para a operação correspondente: \")\n",
        "\n",
        "        # Se o usuário escolher sair, encerra o programa\n",
        "        if opcao == \"0\":\n",
        "            print(\"Saindo... Até logo!\")\n",
        "            break\n",
        "\n",
        "        # Se o usuário escolher uma opção inválida\n",
        "        elif opcao not in [\"1\", \"2\", \"3\", \"4\"]:\n",
        "            print(\"Essa opção não existe.\")\n",
        "            continue\n",
        "\n",
        "        # Solicita os dois números para a operação\n",
        "        try:\n",
        "            num1 = float(input(\"Digite o primeiro valor: \"))\n",
        "            num2 = float(input(\"Digite o segundo valor: \"))\n",
        "        except ValueError:\n",
        "            print(\"Por favor, insira números válidos.\")\n",
        "            continue\n",
        "\n",
        "        # Realiza a operação conforme a opção escolhida\n",
        "        if opcao == \"1\":\n",
        "            resultado = num1 + num2\n",
        "            operacao = \"+\"\n",
        "        elif opcao == \"2\":\n",
        "            resultado = num1 - num2\n",
        "            operacao = \"-\"\n",
        "        elif opcao == \"3\":\n",
        "            resultado = num1 * num2\n",
        "            operacao = \"*\"\n",
        "        elif opcao == \"4\":\n",
        "            if num2 == 0:\n",
        "                print(\"Não é possível dividir por zero.\")\n",
        "                continue\n",
        "            resultado = num1 / num2\n",
        "            operacao = \"/\"\n",
        "\n",
        "        # Exibe o resultado da operação\n",
        "        print(f\"{num1} {operacao} {num2} = {resultado}\")\n",
        "        print()  # Deixa uma linha em branco para melhor visualização\n",
        "\n",
        "# Chama a função para iniciar a calculadora\n",
        "calculadora()\n"
      ]
    }
  ]
}