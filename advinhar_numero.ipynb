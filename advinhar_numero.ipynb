{
  "nbformat": 4,
  "nbformat_minor": 0,
  "metadata": {
    "colab": {
      "provenance": [],
      "authorship_tag": "ABX9TyPuIZqp7tB9DFwfq0LobwH5",
      "include_colab_link": true
    },
    "kernelspec": {
      "name": "python3",
      "display_name": "Python 3"
    },
    "language_info": {
      "name": "python"
    }
  },
  "cells": [
    {
      "cell_type": "markdown",
      "metadata": {
        "id": "view-in-github",
        "colab_type": "text"
      },
      "source": [
        "<a href=\"https://colab.research.google.com/github/PatthyPotter/TalentoCloud/blob/main/advinhar_numero.ipynb\" target=\"_parent\"><img src=\"https://colab.research.google.com/assets/colab-badge.svg\" alt=\"Open In Colab\"/></a>"
      ]
    },
    {
      "cell_type": "code",
      "execution_count": null,
      "metadata": {
        "id": "tpd6H9d5KlDa"
      },
      "outputs": [],
      "source": [
        "#Desafio: Crie uma função que gere um número aleatório entre 1 e 10.\n",
        "#O usuário deve ser perguntado para inserir um valor. Enquanto o usúario não acertar o valor, a função deve continuar perguntado qual o valor.\n",
        "#Ao acertar, a função deve imprimir uma mensagem ao usuário com o valor correto e o número de tentativas até o acerto.\n",
        "#Caso o valor inserido não seja um número inteiro a função deve lançar uma mensagem de erro.\n",
        "\n",
        "import random\n",
        "\n",
        "def adivinhar_numero():\n",
        "    numero_aleatorio = random.randint(1, 10)\n",
        "    tentativas = 0\n",
        "\n",
        "    while True:\n",
        "        try:\n",
        "            valor_inserido = int(input(\"Digite um valor entre 1 e 10: \"))\n",
        "            tentativas += 1\n",
        "\n",
        "            if valor_inserido == numero_aleatorio:\n",
        "                print(\"Parabéns! Você acertou o número {numero_aleatorio} em {tentativas} tentativas.\")\n",
        "                break\n",
        "\n",
        "            elif valor_inserido < numero_aleatorio:\n",
        "                print(\"O valor inserido é menor que o número aleatório. Tente novamente.\")\n",
        "\n",
        "            else:\n",
        "                print(\"O valor inserido é maior que o número aleatório. Tente novamente.\")\n",
        "\n",
        "        except ValueError:\n",
        "            print(\"Por favor, insira um valor inteiro válido.\")\n",
        "\n",
        "# Chamar a função\n",
        "adivinhar_numero()\n",
        "\n"
      ]
    },
    {
      "cell_type": "code",
      "source": [
        "import random\n",
        "\n",
        "def adivinhar_numero():\n",
        "    # Gerar um número aleatório entre 1 e 10\n",
        "    numero_aleatorio = random.randint(1, 10)\n",
        "\n",
        "    # Inicializar o contador de tentativas\n",
        "    tentativas = 0\n",
        "\n",
        "    while True:\n",
        "        try:\n",
        "            # Solicitar ao usuário que insira um valor\n",
        "            palpite = int(input(\"Digite um número entre 1 e 10: \"))\n",
        "\n",
        "            # Incrementar o contador de tentativas\n",
        "            tentativas += 1\n",
        "\n",
        "            # Verificar se o palpite está correto\n",
        "            if palpite == numero_aleatorio:\n",
        "                print(f\"Parabéns! Você acertou o número {numero_aleatorio} em {tentativas} tentativas.\")\n",
        "                break\n",
        "            else:\n",
        "                print(\"Tente novamente!\")\n",
        "\n",
        "        except ValueError:\n",
        "            # Se o usuário não inserir um número inteiro\n",
        "            print(\"Erro! Por favor, insira um número inteiro válido.\")\n",
        "\n",
        "# Chamar a função\n",
        "adivinhar_numero()\n",
        "\n"
      ],
      "metadata": {
        "colab": {
          "base_uri": "https://localhost:8080/"
        },
        "id": "qrS99pVrMJgB",
        "outputId": "7f81fc82-8f24-4e22-d86f-1058429d3233"
      },
      "execution_count": 7,
      "outputs": [
        {
          "output_type": "stream",
          "name": "stdout",
          "text": [
            "Digite um número entre 1 e 10: 5\n",
            "Tente novamente!\n",
            "Digite um número entre 1 e 10: 10\n",
            "Tente novamente!\n",
            "Digite um número entre 1 e 10: 2\n",
            "Tente novamente!\n",
            "Digite um número entre 1 e 10: 1\n",
            "Tente novamente!\n",
            "Digite um número entre 1 e 10: 3\n",
            "Tente novamente!\n",
            "Digite um número entre 1 e 10: 4\n",
            "Tente novamente!\n",
            "Digite um número entre 1 e 10: 5\n",
            "Tente novamente!\n",
            "Digite um número entre 1 e 10: 6\n",
            "Tente novamente!\n",
            "Digite um número entre 1 e 10: 7\n",
            "Parabéns! Você acertou o número 7 em 9 tentativas.\n"
          ]
        }
      ]
    }
  ]
}